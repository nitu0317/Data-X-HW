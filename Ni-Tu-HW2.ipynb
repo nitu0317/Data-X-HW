{
 "cells": [
  {
   "cell_type": "markdown",
   "metadata": {},
   "source": [
    "## Data-X(IEOR 290): HW 2\n",
    "### Tu Ni\n",
    "#### SID: 3032165865"
   ]
  },
  {
   "cell_type": "markdown",
   "metadata": {},
   "source": [
    "# Problem 1"
   ]
  },
  {
   "cell_type": "code",
   "execution_count": 2,
   "metadata": {
    "collapsed": true
   },
   "outputs": [],
   "source": [
    "import numpy as np"
   ]
  },
  {
   "cell_type": "markdown",
   "metadata": {},
   "source": [
    "Q1"
   ]
  },
  {
   "cell_type": "code",
   "execution_count": 3,
   "metadata": {
    "collapsed": true
   },
   "outputs": [],
   "source": [
    "a = np.arange(10,20)"
   ]
  },
  {
   "cell_type": "code",
   "execution_count": 4,
   "metadata": {
    "collapsed": false
   },
   "outputs": [],
   "source": [
    "b = np.linspace(1,7,10)"
   ]
  },
  {
   "cell_type": "code",
   "execution_count": 5,
   "metadata": {
    "collapsed": false
   },
   "outputs": [
    {
     "name": "stdout",
     "output_type": "stream",
     "text": [
      "[100 121 144 169 196 225 256 289 324 361]\n",
      "[  1.           2.77777778   5.44444444   9.          13.44444444\n",
      "  18.77777778  25.          32.11111111  40.11111111  49.        ]\n"
     ]
    }
   ],
   "source": [
    "print (a**2)\n",
    "print (b**2)"
   ]
  },
  {
   "cell_type": "code",
   "execution_count": 6,
   "metadata": {
    "collapsed": false
   },
   "outputs": [
    {
     "name": "stdout",
     "output_type": "stream",
     "text": [
      "[ 101.          123.77777778  149.44444444  178.          209.44444444\n",
      "  243.77777778  281.          321.11111111  364.11111111  410.        ]\n"
     ]
    }
   ],
   "source": [
    "add = a**2 + b**2\n",
    "print (add)"
   ]
  },
  {
   "cell_type": "code",
   "execution_count": 8,
   "metadata": {
    "collapsed": false
   },
   "outputs": [
    {
     "name": "stdout",
     "output_type": "stream",
     "text": [
      "1105.0\n"
     ]
    }
   ],
   "source": [
    "print (sum(add[::2]))"
   ]
  },
  {
   "cell_type": "code",
   "execution_count": 10,
   "metadata": {
    "collapsed": false
   },
   "outputs": [
    {
     "name": "stdout",
     "output_type": "stream",
     "text": [
      "[ 10.04987562  11.12554618  12.22474721  13.34166406  14.47219556\n",
      "  15.61338457  16.76305461  17.91957341  19.08169571  20.24845673]\n"
     ]
    }
   ],
   "source": [
    "print (add ** 0.5)"
   ]
  },
  {
   "cell_type": "markdown",
   "metadata": {},
   "source": [
    "Q2"
   ]
  },
  {
   "cell_type": "code",
   "execution_count": 9,
   "metadata": {
    "collapsed": false
   },
   "outputs": [
    {
     "name": "stdout",
     "output_type": "stream",
     "text": [
      "[[ 10.          11.          12.          13.        ]\n",
      " [ 14.          15.          16.          17.        ]\n",
      " [ 18.          19.           1.           1.66666667]\n",
      " [  2.33333333   3.           3.66666667   4.33333333]\n",
      " [  5.           5.66666667   6.33333333   7.        ]]\n"
     ]
    }
   ],
   "source": [
    "m = np.append(a,b).reshape(5,4)\n",
    "print (m)"
   ]
  },
  {
   "cell_type": "markdown",
   "metadata": {},
   "source": [
    "Q3"
   ]
  },
  {
   "cell_type": "code",
   "execution_count": 10,
   "metadata": {
    "collapsed": false
   },
   "outputs": [
    {
     "name": "stdout",
     "output_type": "stream",
     "text": [
      "[[ 11.          12.        ]\n",
      " [ 15.          16.        ]\n",
      " [ 19.           1.        ]\n",
      " [  3.           3.66666667]\n",
      " [  5.66666667   6.33333333]]\n"
     ]
    }
   ],
   "source": [
    "m2 = m[:,1:3]\n",
    "print (m2)"
   ]
  },
  {
   "cell_type": "markdown",
   "metadata": {},
   "source": [
    "Q4"
   ]
  },
  {
   "cell_type": "code",
   "execution_count": 11,
   "metadata": {
    "collapsed": false
   },
   "outputs": [
    {
     "name": "stdout",
     "output_type": "stream",
     "text": [
      "[[ 697.33333333  748.11111111  437.88888889  482.33333333]\n",
      " [ 402.22222222  437.88888889  454.55555556  489.88888889]]\n"
     ]
    }
   ],
   "source": [
    "m3 = np.dot(np.transpose(m2), m)\n",
    "print (m3)"
   ]
  },
  {
   "cell_type": "markdown",
   "metadata": {},
   "source": [
    "Q5"
   ]
  },
  {
   "cell_type": "code",
   "execution_count": 12,
   "metadata": {
    "collapsed": false
   },
   "outputs": [
    {
     "name": "stdout",
     "output_type": "stream",
     "text": [
      "[[ 697.33  748.11  437.89  482.33]\n",
      " [ 402.22  437.89  454.56  489.89]]\n"
     ]
    }
   ],
   "source": [
    "m3 = np.round(m3,2)\n",
    "print (m3)"
   ]
  },
  {
   "cell_type": "markdown",
   "metadata": {},
   "source": [
    "Q6"
   ]
  },
  {
   "cell_type": "code",
   "execution_count": 17,
   "metadata": {
    "collapsed": false
   },
   "outputs": [
    {
     "name": "stdout",
     "output_type": "stream",
     "text": [
      "[[ 748.11  697.33  489.89  482.33]\n",
      " [ 454.56  437.89  437.89  402.22]]\n"
     ]
    }
   ],
   "source": [
    "print (np.sort(m3,axis = None)[::-1].reshape(2,4))"
   ]
  }
 ],
 "metadata": {
  "anaconda-cloud": {},
  "kernelspec": {
   "display_name": "Python [default]",
   "language": "python",
   "name": "python3"
  },
  "language_info": {
   "codemirror_mode": {
    "name": "ipython",
    "version": 3
   },
   "file_extension": ".py",
   "mimetype": "text/x-python",
   "name": "python",
   "nbconvert_exporter": "python",
   "pygments_lexer": "ipython3",
   "version": "3.5.2"
  }
 },
 "nbformat": 4,
 "nbformat_minor": 1
}
